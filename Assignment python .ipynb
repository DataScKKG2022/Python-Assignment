{
 "cells": [
  {
   "cell_type": "code",
   "execution_count": null,
   "id": "55afcfa3",
   "metadata": {
    "scrolled": true
   },
   "outputs": [],
   "source": [
    "##Create a program that displays your name and complete mailing address. The address##\n",
    "\n",
    "print(\"Kanchan Goswami\")\n",
    "print(\"Kunal Riverside\")\n",
    "print(\"Flat no 20 A wing \")\n",
    "print(\"Chinchwadgaon\")\n",
    "print(\"Near Aditya Birla hospital\")\n",
    "print(\"Pin Code 411033\")\n",
    "print(\"Pune\")\n",
    "print(\"Maharashtra\")\n",
    "print(\"India\")\n",
    "\n"
   ]
  },
  {
   "cell_type": "code",
   "execution_count": null,
   "id": "cea0968d",
   "metadata": {},
   "outputs": [],
   "source": [
    "## Write a program that asks the user to enter his or her name. The program should \\\n",
    "respond with a message that says hello to the user, using his or her name.##\n",
    "\n"
   ]
  },
  {
   "cell_type": "code",
   "execution_count": null,
   "id": "627caee9",
   "metadata": {},
   "outputs": [],
   "source": [
    "NAME = input(\"Enter your name: \")\n",
    "print(\"Hello\",NAME)"
   ]
  },
  {
   "cell_type": "code",
   "execution_count": null,
   "id": "615dac54",
   "metadata": {},
   "outputs": [],
   "source": [
    "Exercise 3: Area of a Room\n",
    "(Solved, 13 Lines)\n",
    "Write a program that asks the user to enter the width and length of a room. Once\n",
    "these values have been read, your program should compute and display the area of\n",
    "the room. The length and the width will be entered as floating-point numbers. Include\n",
    "units in your prompt and output message; either feet or meters, depending on which\n",
    "unit you are more comfortable working with"
   ]
  },
  {
   "cell_type": "code",
   "execution_count": null,
   "id": "e8908193",
   "metadata": {},
   "outputs": [],
   "source": [
    "## Exercise 3: Area of a Room  Write a program that asks the user to enter the width and length of a room. Once \\\n",
    "these values have been read, your program should compute and display the area of \\\n",
    "the room. The length and the width will be entered as floating-point numbers. Include \\\n",
    "units in your prompt and output message; either feet or meters, depending on which \\\n",
    "unit you are more comfortable working with ##"
   ]
  },
  {
   "cell_type": "code",
   "execution_count": null,
   "id": "c1148af5",
   "metadata": {
    "scrolled": true
   },
   "outputs": [],
   "source": [
    "length = float(input(\"Enter the length of the room in feet: \"))\n",
    "width = float(input(\"Enter the width of the room in feet: \"))\n",
    "area = length * width\n",
    "print(\"The area of the room is\", area, \"square feet\")"
   ]
  },
  {
   "cell_type": "code",
   "execution_count": null,
   "id": "cf42b06b",
   "metadata": {},
   "outputs": [],
   "source": [
    "## Compute the area of a field, reporting the result in acres ##\n",
    "#SQFT_PER_ACRE = 43560#"
   ]
  },
  {
   "cell_type": "code",
   "execution_count": 2,
   "id": "3190f677",
   "metadata": {},
   "outputs": [
    {
     "name": "stdout",
     "output_type": "stream",
     "text": [
      "Enter the length of the field in feet: 500\n",
      "Enter the width of the field in feet: 400\n",
      "The area of the field is 4.591368227731864 Acres\n"
     ]
    }
   ],
   "source": [
    "length = float(input(\"Enter the length of the field in feet: \"))\n",
    "width = float(input(\"Enter the width of the field in feet: \"))\n",
    "Area  = (length * width)\n",
    "Acres = Area/43560\n",
    "print(\"The area of the field is\", Acres ,\"Acres\")"
   ]
  },
  {
   "cell_type": "code",
   "execution_count": null,
   "id": "8676b94b",
   "metadata": {},
   "outputs": [],
   "source": [
    "##In many jurisdictions a small deposit is added to drink containers to encourage people\n",
    "to recycle them. In one particular jurisdiction, drink containers holding one liter or \\\n",
    "less have a $0.10 deposit, and drink containers holding more than one liter have a  \\\n",
    "$0.25 deposit. Write a program that reads the number of containers of each size from the user.\\\n",
    "Your program should continue by computing and displaying the refund that will be \\\n",
    "received for returning those containers. Format the output so that it includes a dollar \\\n",
    "sign and two digits to the right of the decimal point ## "
   ]
  },
  {
   "cell_type": "code",
   "execution_count": 3,
   "id": "977b49f6",
   "metadata": {},
   "outputs": [
    {
     "name": "stdout",
     "output_type": "stream",
     "text": [
      "How many containers 1 litre or less? 10\n",
      "How many containers more than 1 litre? 20\n",
      "Your total refund will be $6.00.\n"
     ]
    }
   ],
   "source": [
    "LESS_DEPOSIT = 0.10\n",
    "MORE_DEPOSIT = 0.25\n",
    "less = int(input(\"How many containers 1 litre or less? \"))\n",
    "more = int(input(\"How many containers more than 1 litre? \"))\n",
    "refund = less * LESS_DEPOSIT + more * MORE_DEPOSIT\n",
    "print(\"Your total refund will be $%.2f.\" % refund)\n"
   ]
  },
  {
   "cell_type": "code",
   "execution_count": null,
   "id": "fdcb114c",
   "metadata": {},
   "outputs": [],
   "source": [
    "##The program that you create for this exercise will begin by reading the cost of a meal\n",
    "ordered at a restaurant from the user. Then your program will compute the tax and\n",
    "tip for the meal. Use your local tax rate when computing the amount of tax owing.\n",
    "Compute the tip as 18 percent of the meal amount (without the tax). The output from\n",
    "your program should include the tax amount, the tip amount, and the grand total for\n",
    "the meal including both the tax and the tip. Format the output so that all of the values\n",
    "are displayed using two decimal places##\n"
   ]
  },
  {
   "cell_type": "code",
   "execution_count": 19,
   "id": "52033f92",
   "metadata": {},
   "outputs": [
    {
     "name": "stdout",
     "output_type": "stream",
     "text": [
      "Enter the cost of the meal: 500\n",
      "the tax is 25.00 and tip is 90.00,making the total 615.00\n"
     ]
    }
   ],
   "source": [
    "TAX_rate=0.05\n",
    "TIP_rate=0.18\n",
    "cost = float(input(\"Enter the cost of the meal: \"))\n",
    "tax = TAX_rate*cost\n",
    "tip = TIP_rate*cost\n",
    "total = cost + tax + tip \n",
    "print(\"the tax is %.2f and tip is %.2f,making the\"\n",
    "      \" total %.2f\"%(tax,tip,total))"
   ]
  },
  {
   "cell_type": "code",
   "execution_count": 21,
   "id": "5d143d99",
   "metadata": {},
   "outputs": [
    {
     "name": "stdout",
     "output_type": "stream",
     "text": [
      "Enter a positive integer: 10\n",
      "The sum of the first 10 positive integers is 55.0\n"
     ]
    }
   ],
   "source": [
    "# Solution to Exercise 7: Sum of the First n Positive Integers Compute the sum of the first n positive integers.#\n",
    "\n",
    "n = int(input(\"Enter a positive integer: \"))\n",
    "sm = n * (n + 1) / 2\n",
    "print(\"The sum of the first\", n, \"positive integers is\", sm)\n"
   ]
  },
  {
   "cell_type": "code",
   "execution_count": null,
   "id": "6fcb5d47",
   "metadata": {},
   "outputs": [],
   "source": [
    "##Exercise 8: Widgets and Gizmos\n",
    "(15 Lines)\n",
    "An online retailer sells two products: widgets and gizmos. Each widget weighs 75\n",
    "grams. Each gizmo weighs 112 grams. Write a program that reads the number of\n",
    "widgets and the number of gizmos from the user. Then your program should compute\n",
    "and display the total weight of the parts.##\n"
   ]
  },
  {
   "cell_type": "code",
   "execution_count": 22,
   "id": "90510d44",
   "metadata": {},
   "outputs": [
    {
     "name": "stdout",
     "output_type": "stream",
     "text": [
      "Enter your number of widgets: 50\n",
      "Enter your number of Gizmos: 29\n",
      "\n",
      "The total weight of the order is 6998\n"
     ]
    }
   ],
   "source": [
    "numOfWidgets = input (\"Enter your number of widgets: \")\n",
    "numofGizmos = input (\"Enter your number of Gizmos: \")\n",
    "\n",
    "converts1 = int(numOfWidgets) # converts number of widgets into an integer\n",
    "convert2 = int(numofGizmos)  # converts number of gizmos into an integer\n",
    "\n",
    "weightOfWidgets = converts1 * 75\n",
    "weightOfGizmos = convert2 * 112\n",
    "\n",
    "\n",
    "totalWeight = weightOfGizmos + weightOfWidgets\n",
    "\n",
    "convert3 = str(totalWeight)\n",
    "print (\"\") # prints an empty line\n",
    "print (\"The total weight of the order is \" + convert3)"
   ]
  },
  {
   "cell_type": "code",
   "execution_count": null,
   "id": "5cb66f68",
   "metadata": {},
   "outputs": [],
   "source": [
    "## Exercise 9: Compound Interest\n",
    "(19 Lines)\n",
    "Pretend that you have just opened a new savings account that earns 4 percent interest\n",
    "per year. The interest that you earn is paid at the end of the year, and is added to the\n",
    "balance of the savings account. Write a program that begins by reading the amount of\n",
    "money deposited into the account from the user. Then your program should compute\n",
    "and display the amount in the savings account after 1, 2, and 3 years. Display each\n",
    "amount so that it is rounded to 2 decimal places ##"
   ]
  },
  {
   "cell_type": "code",
   "execution_count": 27,
   "id": "906d9635",
   "metadata": {
    "scrolled": true
   },
   "outputs": [
    {
     "name": "stdout",
     "output_type": "stream",
     "text": [
      "Enter the principal amount : 100000\n",
      "Enter the number of years : 5\n",
      "Enter the rate of interest : 4\n",
      "Compound interest : 121665.29024000002\n"
     ]
    }
   ],
   "source": [
    "p = float(input(\"Enter the principal amount : \"))\n",
    " \n",
    "t = float(input(\"Enter the number of years : \"))\n",
    " \n",
    "r = float(input(\"Enter the rate of interest : \"))\n",
    " \n",
    "#compute compound interest\n",
    "ci =  p * (pow((1 + r / 100), t)) \n",
    " \n",
    "#print\n",
    "print(\"Compound interest : {}\".format(ci))"
   ]
  },
  {
   "cell_type": "code",
   "execution_count": null,
   "id": "74b1d5e8",
   "metadata": {},
   "outputs": [],
   "source": [
    "##Create a program that reads two integers, a and b, from the user. Your program should\n",
    "compute and display:\n",
    "• The sum of a and b\n",
    "• The difference when b is subtracted from a\n",
    "• The product of a and b\n",
    "• The quotient when a is divided by b\n",
    "• The remainder when a is divided by b\n",
    "• The result of log10 a\n",
    "• The result of a## \n"
   ]
  },
  {
   "cell_type": "code",
   "execution_count": 29,
   "id": "2a4c3542",
   "metadata": {},
   "outputs": [
    {
     "name": "stdout",
     "output_type": "stream",
     "text": [
      "Enter the value of a: 10\n",
      "Enter the value of b: 50\n",
      "10 + 50 is 60\n",
      "10 - 50 is -40\n",
      "10 * 50 is 500\n",
      "10 / 50 is 0.2\n",
      "10 % 50 is 10\n",
      "The base 10 logarithm of 10 is 1.0\n",
      "10 ˆ 50 is 100000000000000000000000000000000000000000000000000\n"
     ]
    }
   ],
   "source": [
    "from math import log10\n",
    "a = int(input(\"Enter the value of a: \"))\n",
    "b = int(input(\"Enter the value of b: \"))\n",
    "print(a, \"+\", b, \"is\", a + b)\n",
    "print(a, \"-\", b, \"is\", a - b)\n",
    "print(a, \"*\", b, \"is\", a * b)\n",
    "print(a, \"/\", b, \"is\", a / b)\n",
    "print(a, \"%\", b, \"is\", a % b)\n",
    "print(\"The base 10 logarithm of\", a, \"is\", log10(a))\n",
    "print(a, \"ˆ\", b, \"is\", a**b)"
   ]
  },
  {
   "cell_type": "code",
   "execution_count": null,
   "id": "e3e74862",
   "metadata": {},
   "outputs": [],
   "source": []
  },
  {
   "cell_type": "code",
   "execution_count": null,
   "id": "4f76ff2e",
   "metadata": {},
   "outputs": [],
   "source": []
  }
 ],
 "metadata": {
  "kernelspec": {
   "display_name": "Python 3 (ipykernel)",
   "language": "python",
   "name": "python3"
  },
  "language_info": {
   "codemirror_mode": {
    "name": "ipython",
    "version": 3
   },
   "file_extension": ".py",
   "mimetype": "text/x-python",
   "name": "python",
   "nbconvert_exporter": "python",
   "pygments_lexer": "ipython3",
   "version": "3.9.12"
  }
 },
 "nbformat": 4,
 "nbformat_minor": 5
}
